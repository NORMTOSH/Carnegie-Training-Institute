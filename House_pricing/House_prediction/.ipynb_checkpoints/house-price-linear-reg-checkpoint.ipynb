{
 "cells": [
  {
   "cell_type": "markdown",
   "metadata": {
    "papermill": {
     "duration": 0.016115,
     "end_time": "2022-04-21T15:42:11.587976",
     "exception": false,
     "start_time": "2022-04-21T15:42:11.571861",
     "status": "completed"
    },
    "tags": []
   },
   "source": [
    " > ## **Import all the required files**\n"
   ]
  },
  {
   "cell_type": "code",
   "execution_count": 1,
   "metadata": {
    "execution": {
     "iopub.execute_input": "2022-04-21T15:42:11.625979Z",
     "iopub.status.busy": "2022-04-21T15:42:11.624174Z",
     "iopub.status.idle": "2022-04-21T15:42:13.004774Z",
     "shell.execute_reply": "2022-04-21T15:42:13.005229Z",
     "shell.execute_reply.started": "2022-04-21T15:40:55.671859Z"
    },
    "papermill": {
     "duration": 1.400599,
     "end_time": "2022-04-21T15:42:13.005577",
     "exception": false,
     "start_time": "2022-04-21T15:42:11.604978",
     "status": "completed"
    },
    "tags": []
   },
   "outputs": [],
   "source": [
    "import numpy as np\n",
    "import pandas as pd\n",
    "import seaborn as sns\n",
    "import matplotlib.pyplot as plt\n",
    "from sklearn.model_selection import train_test_split\n",
    "from sklearn.linear_model import LinearRegression\n",
    "from sklearn import metrics\n",
    "import pickle"
   ]
  },
  {
   "cell_type": "markdown",
   "metadata": {
    "papermill": {
     "duration": 0.014282,
     "end_time": "2022-04-21T15:42:13.034657",
     "exception": false,
     "start_time": "2022-04-21T15:42:13.020375",
     "status": "completed"
    },
    "tags": []
   },
   "source": [
    " > ## **Import data**"
   ]
  },
  {
   "cell_type": "code",
   "execution_count": 2,
   "metadata": {
    "execution": {
     "iopub.execute_input": "2022-04-21T15:42:13.070640Z",
     "iopub.status.busy": "2022-04-21T15:42:13.069582Z",
     "iopub.status.idle": "2022-04-21T15:42:13.130205Z",
     "shell.execute_reply": "2022-04-21T15:42:13.130693Z",
     "shell.execute_reply.started": "2022-04-21T15:41:00.331117Z"
    },
    "papermill": {
     "duration": 0.080891,
     "end_time": "2022-04-21T15:42:13.130877",
     "exception": false,
     "start_time": "2022-04-21T15:42:13.049986",
     "status": "completed"
    },
    "tags": []
   },
   "outputs": [
    {
     "ename": "FileNotFoundError",
     "evalue": "[Errno 2] File b'../input/housedata/data.csv' does not exist: b'../input/housedata/data.csv'",
     "output_type": "error",
     "traceback": [
      "\u001b[1;31m---------------------------------------------------------------------------\u001b[0m",
      "\u001b[1;31mFileNotFoundError\u001b[0m                         Traceback (most recent call last)",
      "\u001b[1;32m<ipython-input-2-fa8f5418fe6d>\u001b[0m in \u001b[0;36m<module>\u001b[1;34m\u001b[0m\n\u001b[1;32m----> 1\u001b[1;33m \u001b[0mdata\u001b[0m \u001b[1;33m=\u001b[0m \u001b[0mpd\u001b[0m\u001b[1;33m.\u001b[0m\u001b[0mread_csv\u001b[0m\u001b[1;33m(\u001b[0m\u001b[1;34m'../input/housedata/data.csv'\u001b[0m\u001b[1;33m)\u001b[0m\u001b[1;33m\u001b[0m\u001b[1;33m\u001b[0m\u001b[0m\n\u001b[0m\u001b[0;32m      2\u001b[0m \u001b[0mdata\u001b[0m\u001b[1;33m.\u001b[0m\u001b[0mhead\u001b[0m\u001b[1;33m(\u001b[0m\u001b[1;33m)\u001b[0m\u001b[1;33m\u001b[0m\u001b[1;33m\u001b[0m\u001b[0m\n",
      "\u001b[1;32mC:\\ProgramData\\Anaconda3\\lib\\site-packages\\pandas\\io\\parsers.py\u001b[0m in \u001b[0;36mparser_f\u001b[1;34m(filepath_or_buffer, sep, delimiter, header, names, index_col, usecols, squeeze, prefix, mangle_dupe_cols, dtype, engine, converters, true_values, false_values, skipinitialspace, skiprows, skipfooter, nrows, na_values, keep_default_na, na_filter, verbose, skip_blank_lines, parse_dates, infer_datetime_format, keep_date_col, date_parser, dayfirst, cache_dates, iterator, chunksize, compression, thousands, decimal, lineterminator, quotechar, quoting, doublequote, escapechar, comment, encoding, dialect, error_bad_lines, warn_bad_lines, delim_whitespace, low_memory, memory_map, float_precision)\u001b[0m\n\u001b[0;32m    683\u001b[0m         )\n\u001b[0;32m    684\u001b[0m \u001b[1;33m\u001b[0m\u001b[0m\n\u001b[1;32m--> 685\u001b[1;33m         \u001b[1;32mreturn\u001b[0m \u001b[0m_read\u001b[0m\u001b[1;33m(\u001b[0m\u001b[0mfilepath_or_buffer\u001b[0m\u001b[1;33m,\u001b[0m \u001b[0mkwds\u001b[0m\u001b[1;33m)\u001b[0m\u001b[1;33m\u001b[0m\u001b[1;33m\u001b[0m\u001b[0m\n\u001b[0m\u001b[0;32m    686\u001b[0m \u001b[1;33m\u001b[0m\u001b[0m\n\u001b[0;32m    687\u001b[0m     \u001b[0mparser_f\u001b[0m\u001b[1;33m.\u001b[0m\u001b[0m__name__\u001b[0m \u001b[1;33m=\u001b[0m \u001b[0mname\u001b[0m\u001b[1;33m\u001b[0m\u001b[1;33m\u001b[0m\u001b[0m\n",
      "\u001b[1;32mC:\\ProgramData\\Anaconda3\\lib\\site-packages\\pandas\\io\\parsers.py\u001b[0m in \u001b[0;36m_read\u001b[1;34m(filepath_or_buffer, kwds)\u001b[0m\n\u001b[0;32m    455\u001b[0m \u001b[1;33m\u001b[0m\u001b[0m\n\u001b[0;32m    456\u001b[0m     \u001b[1;31m# Create the parser.\u001b[0m\u001b[1;33m\u001b[0m\u001b[1;33m\u001b[0m\u001b[1;33m\u001b[0m\u001b[0m\n\u001b[1;32m--> 457\u001b[1;33m     \u001b[0mparser\u001b[0m \u001b[1;33m=\u001b[0m \u001b[0mTextFileReader\u001b[0m\u001b[1;33m(\u001b[0m\u001b[0mfp_or_buf\u001b[0m\u001b[1;33m,\u001b[0m \u001b[1;33m**\u001b[0m\u001b[0mkwds\u001b[0m\u001b[1;33m)\u001b[0m\u001b[1;33m\u001b[0m\u001b[1;33m\u001b[0m\u001b[0m\n\u001b[0m\u001b[0;32m    458\u001b[0m \u001b[1;33m\u001b[0m\u001b[0m\n\u001b[0;32m    459\u001b[0m     \u001b[1;32mif\u001b[0m \u001b[0mchunksize\u001b[0m \u001b[1;32mor\u001b[0m \u001b[0miterator\u001b[0m\u001b[1;33m:\u001b[0m\u001b[1;33m\u001b[0m\u001b[1;33m\u001b[0m\u001b[0m\n",
      "\u001b[1;32mC:\\ProgramData\\Anaconda3\\lib\\site-packages\\pandas\\io\\parsers.py\u001b[0m in \u001b[0;36m__init__\u001b[1;34m(self, f, engine, **kwds)\u001b[0m\n\u001b[0;32m    893\u001b[0m             \u001b[0mself\u001b[0m\u001b[1;33m.\u001b[0m\u001b[0moptions\u001b[0m\u001b[1;33m[\u001b[0m\u001b[1;34m\"has_index_names\"\u001b[0m\u001b[1;33m]\u001b[0m \u001b[1;33m=\u001b[0m \u001b[0mkwds\u001b[0m\u001b[1;33m[\u001b[0m\u001b[1;34m\"has_index_names\"\u001b[0m\u001b[1;33m]\u001b[0m\u001b[1;33m\u001b[0m\u001b[1;33m\u001b[0m\u001b[0m\n\u001b[0;32m    894\u001b[0m \u001b[1;33m\u001b[0m\u001b[0m\n\u001b[1;32m--> 895\u001b[1;33m         \u001b[0mself\u001b[0m\u001b[1;33m.\u001b[0m\u001b[0m_make_engine\u001b[0m\u001b[1;33m(\u001b[0m\u001b[0mself\u001b[0m\u001b[1;33m.\u001b[0m\u001b[0mengine\u001b[0m\u001b[1;33m)\u001b[0m\u001b[1;33m\u001b[0m\u001b[1;33m\u001b[0m\u001b[0m\n\u001b[0m\u001b[0;32m    896\u001b[0m \u001b[1;33m\u001b[0m\u001b[0m\n\u001b[0;32m    897\u001b[0m     \u001b[1;32mdef\u001b[0m \u001b[0mclose\u001b[0m\u001b[1;33m(\u001b[0m\u001b[0mself\u001b[0m\u001b[1;33m)\u001b[0m\u001b[1;33m:\u001b[0m\u001b[1;33m\u001b[0m\u001b[1;33m\u001b[0m\u001b[0m\n",
      "\u001b[1;32mC:\\ProgramData\\Anaconda3\\lib\\site-packages\\pandas\\io\\parsers.py\u001b[0m in \u001b[0;36m_make_engine\u001b[1;34m(self, engine)\u001b[0m\n\u001b[0;32m   1133\u001b[0m     \u001b[1;32mdef\u001b[0m \u001b[0m_make_engine\u001b[0m\u001b[1;33m(\u001b[0m\u001b[0mself\u001b[0m\u001b[1;33m,\u001b[0m \u001b[0mengine\u001b[0m\u001b[1;33m=\u001b[0m\u001b[1;34m\"c\"\u001b[0m\u001b[1;33m)\u001b[0m\u001b[1;33m:\u001b[0m\u001b[1;33m\u001b[0m\u001b[1;33m\u001b[0m\u001b[0m\n\u001b[0;32m   1134\u001b[0m         \u001b[1;32mif\u001b[0m \u001b[0mengine\u001b[0m \u001b[1;33m==\u001b[0m \u001b[1;34m\"c\"\u001b[0m\u001b[1;33m:\u001b[0m\u001b[1;33m\u001b[0m\u001b[1;33m\u001b[0m\u001b[0m\n\u001b[1;32m-> 1135\u001b[1;33m             \u001b[0mself\u001b[0m\u001b[1;33m.\u001b[0m\u001b[0m_engine\u001b[0m \u001b[1;33m=\u001b[0m \u001b[0mCParserWrapper\u001b[0m\u001b[1;33m(\u001b[0m\u001b[0mself\u001b[0m\u001b[1;33m.\u001b[0m\u001b[0mf\u001b[0m\u001b[1;33m,\u001b[0m \u001b[1;33m**\u001b[0m\u001b[0mself\u001b[0m\u001b[1;33m.\u001b[0m\u001b[0moptions\u001b[0m\u001b[1;33m)\u001b[0m\u001b[1;33m\u001b[0m\u001b[1;33m\u001b[0m\u001b[0m\n\u001b[0m\u001b[0;32m   1136\u001b[0m         \u001b[1;32melse\u001b[0m\u001b[1;33m:\u001b[0m\u001b[1;33m\u001b[0m\u001b[1;33m\u001b[0m\u001b[0m\n\u001b[0;32m   1137\u001b[0m             \u001b[1;32mif\u001b[0m \u001b[0mengine\u001b[0m \u001b[1;33m==\u001b[0m \u001b[1;34m\"python\"\u001b[0m\u001b[1;33m:\u001b[0m\u001b[1;33m\u001b[0m\u001b[1;33m\u001b[0m\u001b[0m\n",
      "\u001b[1;32mC:\\ProgramData\\Anaconda3\\lib\\site-packages\\pandas\\io\\parsers.py\u001b[0m in \u001b[0;36m__init__\u001b[1;34m(self, src, **kwds)\u001b[0m\n\u001b[0;32m   1915\u001b[0m         \u001b[0mkwds\u001b[0m\u001b[1;33m[\u001b[0m\u001b[1;34m\"usecols\"\u001b[0m\u001b[1;33m]\u001b[0m \u001b[1;33m=\u001b[0m \u001b[0mself\u001b[0m\u001b[1;33m.\u001b[0m\u001b[0musecols\u001b[0m\u001b[1;33m\u001b[0m\u001b[1;33m\u001b[0m\u001b[0m\n\u001b[0;32m   1916\u001b[0m \u001b[1;33m\u001b[0m\u001b[0m\n\u001b[1;32m-> 1917\u001b[1;33m         \u001b[0mself\u001b[0m\u001b[1;33m.\u001b[0m\u001b[0m_reader\u001b[0m \u001b[1;33m=\u001b[0m \u001b[0mparsers\u001b[0m\u001b[1;33m.\u001b[0m\u001b[0mTextReader\u001b[0m\u001b[1;33m(\u001b[0m\u001b[0msrc\u001b[0m\u001b[1;33m,\u001b[0m \u001b[1;33m**\u001b[0m\u001b[0mkwds\u001b[0m\u001b[1;33m)\u001b[0m\u001b[1;33m\u001b[0m\u001b[1;33m\u001b[0m\u001b[0m\n\u001b[0m\u001b[0;32m   1918\u001b[0m         \u001b[0mself\u001b[0m\u001b[1;33m.\u001b[0m\u001b[0munnamed_cols\u001b[0m \u001b[1;33m=\u001b[0m \u001b[0mself\u001b[0m\u001b[1;33m.\u001b[0m\u001b[0m_reader\u001b[0m\u001b[1;33m.\u001b[0m\u001b[0munnamed_cols\u001b[0m\u001b[1;33m\u001b[0m\u001b[1;33m\u001b[0m\u001b[0m\n\u001b[0;32m   1919\u001b[0m \u001b[1;33m\u001b[0m\u001b[0m\n",
      "\u001b[1;32mpandas\\_libs\\parsers.pyx\u001b[0m in \u001b[0;36mpandas._libs.parsers.TextReader.__cinit__\u001b[1;34m()\u001b[0m\n",
      "\u001b[1;32mpandas\\_libs\\parsers.pyx\u001b[0m in \u001b[0;36mpandas._libs.parsers.TextReader._setup_parser_source\u001b[1;34m()\u001b[0m\n",
      "\u001b[1;31mFileNotFoundError\u001b[0m: [Errno 2] File b'../input/housedata/data.csv' does not exist: b'../input/housedata/data.csv'"
     ]
    }
   ],
   "source": [
    "data = pd.read_csv('../input/housedata/data.csv')\n",
    "data.head()"
   ]
  },
  {
   "cell_type": "markdown",
   "metadata": {
    "papermill": {
     "duration": 0.014815,
     "end_time": "2022-04-21T15:42:13.161148",
     "exception": false,
     "start_time": "2022-04-21T15:42:13.146333",
     "status": "completed"
    },
    "tags": []
   },
   "source": [
    " > ## **Exploratory Data Analysis**"
   ]
  },
  {
   "cell_type": "code",
   "execution_count": null,
   "metadata": {
    "execution": {
     "iopub.execute_input": "2022-04-21T15:42:13.194644Z",
     "iopub.status.busy": "2022-04-21T15:42:13.193700Z",
     "iopub.status.idle": "2022-04-21T15:42:13.198896Z",
     "shell.execute_reply": "2022-04-21T15:42:13.199391Z",
     "shell.execute_reply.started": "2022-04-21T15:41:02.989529Z"
    },
    "papermill": {
     "duration": 0.023546,
     "end_time": "2022-04-21T15:42:13.199557",
     "exception": false,
     "start_time": "2022-04-21T15:42:13.176011",
     "status": "completed"
    },
    "tags": []
   },
   "outputs": [],
   "source": [
    "data.shape"
   ]
  },
  {
   "cell_type": "code",
   "execution_count": null,
   "metadata": {
    "execution": {
     "iopub.execute_input": "2022-04-21T15:42:13.237536Z",
     "iopub.status.busy": "2022-04-21T15:42:13.236637Z",
     "iopub.status.idle": "2022-04-21T15:42:13.259156Z",
     "shell.execute_reply": "2022-04-21T15:42:13.258498Z",
     "shell.execute_reply.started": "2022-04-21T15:41:04.847228Z"
    },
    "papermill": {
     "duration": 0.044621,
     "end_time": "2022-04-21T15:42:13.259314",
     "exception": false,
     "start_time": "2022-04-21T15:42:13.214693",
     "status": "completed"
    },
    "tags": []
   },
   "outputs": [],
   "source": [
    "data.info()"
   ]
  },
  {
   "cell_type": "code",
   "execution_count": null,
   "metadata": {
    "execution": {
     "iopub.execute_input": "2022-04-21T15:42:13.296473Z",
     "iopub.status.busy": "2022-04-21T15:42:13.295814Z",
     "iopub.status.idle": "2022-04-21T15:42:13.298208Z",
     "shell.execute_reply": "2022-04-21T15:42:13.298660Z",
     "shell.execute_reply.started": "2022-04-21T15:41:07.062406Z"
    },
    "papermill": {
     "duration": 0.023648,
     "end_time": "2022-04-21T15:42:13.298823",
     "exception": false,
     "start_time": "2022-04-21T15:42:13.275175",
     "status": "completed"
    },
    "tags": []
   },
   "outputs": [],
   "source": [
    "data.columns"
   ]
  },
  {
   "cell_type": "code",
   "execution_count": null,
   "metadata": {
    "execution": {
     "iopub.execute_input": "2022-04-21T15:42:13.334660Z",
     "iopub.status.busy": "2022-04-21T15:42:13.333733Z",
     "iopub.status.idle": "2022-04-21T15:42:13.342476Z",
     "shell.execute_reply": "2022-04-21T15:42:13.342970Z",
     "shell.execute_reply.started": "2022-04-21T15:41:09.634312Z"
    },
    "papermill": {
     "duration": 0.028415,
     "end_time": "2022-04-21T15:42:13.343133",
     "exception": false,
     "start_time": "2022-04-21T15:42:13.314718",
     "status": "completed"
    },
    "tags": []
   },
   "outputs": [],
   "source": [
    "data.isnull().sum()"
   ]
  },
  {
   "cell_type": "code",
   "execution_count": null,
   "metadata": {
    "execution": {
     "iopub.execute_input": "2022-04-21T15:42:13.383629Z",
     "iopub.status.busy": "2022-04-21T15:42:13.382643Z",
     "iopub.status.idle": "2022-04-21T15:42:13.428943Z",
     "shell.execute_reply": "2022-04-21T15:42:13.429461Z",
     "shell.execute_reply.started": "2022-04-21T15:41:12.250720Z"
    },
    "papermill": {
     "duration": 0.070288,
     "end_time": "2022-04-21T15:42:13.429684",
     "exception": false,
     "start_time": "2022-04-21T15:42:13.359396",
     "status": "completed"
    },
    "tags": []
   },
   "outputs": [],
   "source": [
    "np.round(data.describe(), 2)"
   ]
  },
  {
   "cell_type": "code",
   "execution_count": null,
   "metadata": {
    "execution": {
     "iopub.execute_input": "2022-04-21T15:42:13.471932Z",
     "iopub.status.busy": "2022-04-21T15:42:13.471259Z",
     "iopub.status.idle": "2022-04-21T15:42:14.522579Z",
     "shell.execute_reply": "2022-04-21T15:42:14.523018Z",
     "shell.execute_reply.started": "2022-04-21T15:41:14.879226Z"
    },
    "papermill": {
     "duration": 1.073384,
     "end_time": "2022-04-21T15:42:14.523180",
     "exception": false,
     "start_time": "2022-04-21T15:42:13.449796",
     "status": "completed"
    },
    "tags": []
   },
   "outputs": [],
   "source": [
    "sns.heatmap(data.corr(), annot=True);"
   ]
  },
  {
   "cell_type": "markdown",
   "metadata": {
    "papermill": {
     "duration": 0.019088,
     "end_time": "2022-04-21T15:42:14.561816",
     "exception": false,
     "start_time": "2022-04-21T15:42:14.542728",
     "status": "completed"
    },
    "tags": []
   },
   "source": [
    "> ## **Split the data**"
   ]
  },
  {
   "cell_type": "code",
   "execution_count": null,
   "metadata": {
    "execution": {
     "iopub.execute_input": "2022-04-21T15:42:14.604698Z",
     "iopub.status.busy": "2022-04-21T15:42:14.603747Z",
     "iopub.status.idle": "2022-04-21T15:42:14.608880Z",
     "shell.execute_reply": "2022-04-21T15:42:14.609394Z",
     "shell.execute_reply.started": "2022-04-21T15:41:19.732524Z"
    },
    "papermill": {
     "duration": 0.028455,
     "end_time": "2022-04-21T15:42:14.609570",
     "exception": false,
     "start_time": "2022-04-21T15:42:14.581115",
     "status": "completed"
    },
    "tags": []
   },
   "outputs": [],
   "source": [
    "X = data[['bedrooms','bathrooms','sqft_living','sqft_lot']]\n",
    "y = data['price']"
   ]
  },
  {
   "cell_type": "code",
   "execution_count": null,
   "metadata": {
    "execution": {
     "iopub.execute_input": "2022-04-21T15:42:14.652501Z",
     "iopub.status.busy": "2022-04-21T15:42:14.651584Z",
     "iopub.status.idle": "2022-04-21T15:42:14.657702Z",
     "shell.execute_reply": "2022-04-21T15:42:14.658219Z",
     "shell.execute_reply.started": "2022-04-21T15:41:22.038620Z"
    },
    "papermill": {
     "duration": 0.02911,
     "end_time": "2022-04-21T15:42:14.658399",
     "exception": false,
     "start_time": "2022-04-21T15:42:14.629289",
     "status": "completed"
    },
    "tags": []
   },
   "outputs": [],
   "source": [
    "X_train, X_test,Y_train, Y_test = train_test_split(X,y,test_size=0.2, random_state=1)"
   ]
  },
  {
   "cell_type": "markdown",
   "metadata": {
    "papermill": {
     "duration": 0.019497,
     "end_time": "2022-04-21T15:42:14.697498",
     "exception": false,
     "start_time": "2022-04-21T15:42:14.678001",
     "status": "completed"
    },
    "tags": []
   },
   "source": [
    "> ## **Train our model**"
   ]
  },
  {
   "cell_type": "code",
   "execution_count": null,
   "metadata": {
    "execution": {
     "iopub.execute_input": "2022-04-21T15:42:14.741978Z",
     "iopub.status.busy": "2022-04-21T15:42:14.741031Z",
     "iopub.status.idle": "2022-04-21T15:42:14.764916Z",
     "shell.execute_reply": "2022-04-21T15:42:14.765466Z",
     "shell.execute_reply.started": "2022-04-21T15:41:24.698511Z"
    },
    "papermill": {
     "duration": 0.04862,
     "end_time": "2022-04-21T15:42:14.765645",
     "exception": false,
     "start_time": "2022-04-21T15:42:14.717025",
     "status": "completed"
    },
    "tags": []
   },
   "outputs": [],
   "source": [
    "lr = LinearRegression()\n",
    "lr.fit(X_train, Y_train)"
   ]
  },
  {
   "cell_type": "code",
   "execution_count": null,
   "metadata": {
    "execution": {
     "iopub.execute_input": "2022-04-21T15:42:14.813332Z",
     "iopub.status.busy": "2022-04-21T15:42:14.812513Z",
     "iopub.status.idle": "2022-04-21T15:42:14.815844Z",
     "shell.execute_reply": "2022-04-21T15:42:14.816303Z",
     "shell.execute_reply.started": "2022-04-21T15:41:29.704185Z"
    },
    "papermill": {
     "duration": 0.031134,
     "end_time": "2022-04-21T15:42:14.816476",
     "exception": false,
     "start_time": "2022-04-21T15:42:14.785342",
     "status": "completed"
    },
    "tags": []
   },
   "outputs": [],
   "source": [
    "coeff_df = pd.DataFrame(lr.coef_,X.columns,columns=['Coefficient'])\n",
    "print(coeff_df)"
   ]
  },
  {
   "cell_type": "code",
   "execution_count": null,
   "metadata": {
    "execution": {
     "iopub.execute_input": "2022-04-21T15:42:14.863077Z",
     "iopub.status.busy": "2022-04-21T15:42:14.862135Z",
     "iopub.status.idle": "2022-04-21T15:42:15.059727Z",
     "shell.execute_reply": "2022-04-21T15:42:15.058887Z",
     "shell.execute_reply.started": "2022-04-21T15:41:33.977064Z"
    },
    "papermill": {
     "duration": 0.222231,
     "end_time": "2022-04-21T15:42:15.059869",
     "exception": false,
     "start_time": "2022-04-21T15:42:14.837638",
     "status": "completed"
    },
    "tags": []
   },
   "outputs": [],
   "source": [
    "predictions = lr.predict(X_test)\n",
    "plt.scatter(Y_test,predictions)"
   ]
  },
  {
   "cell_type": "code",
   "execution_count": null,
   "metadata": {
    "execution": {
     "iopub.execute_input": "2022-04-21T15:42:15.107989Z",
     "iopub.status.busy": "2022-04-21T15:42:15.107062Z",
     "iopub.status.idle": "2022-04-21T15:42:15.418035Z",
     "shell.execute_reply": "2022-04-21T15:42:15.417533Z",
     "shell.execute_reply.started": "2022-04-21T15:41:39.356596Z"
    },
    "papermill": {
     "duration": 0.336574,
     "end_time": "2022-04-21T15:42:15.418183",
     "exception": false,
     "start_time": "2022-04-21T15:42:15.081609",
     "status": "completed"
    },
    "tags": []
   },
   "outputs": [],
   "source": [
    "sns.distplot((Y_test-predictions), bins=50)"
   ]
  },
  {
   "cell_type": "code",
   "execution_count": null,
   "metadata": {
    "execution": {
     "iopub.execute_input": "2022-04-21T15:42:15.470771Z",
     "iopub.status.busy": "2022-04-21T15:42:15.469117Z",
     "iopub.status.idle": "2022-04-21T15:42:15.476800Z",
     "shell.execute_reply": "2022-04-21T15:42:15.477296Z",
     "shell.execute_reply.started": "2022-04-21T15:41:42.464302Z"
    },
    "papermill": {
     "duration": 0.03541,
     "end_time": "2022-04-21T15:42:15.477469",
     "exception": false,
     "start_time": "2022-04-21T15:42:15.442059",
     "status": "completed"
    },
    "tags": []
   },
   "outputs": [],
   "source": [
    "print('Mean Absolute Error:', metrics.mean_absolute_error(Y_test, predictions))\n",
    "print('Mean Squared Error:', metrics.mean_squared_error(Y_test, predictions))\n",
    "print('Root Mean Squared Error:', np.sqrt(metrics.mean_squared_error(Y_test, predictions)))"
   ]
  },
  {
   "cell_type": "code",
   "execution_count": null,
   "metadata": {
    "execution": {
     "iopub.execute_input": "2022-04-21T15:42:15.527346Z",
     "iopub.status.busy": "2022-04-21T15:42:15.526713Z",
     "iopub.status.idle": "2022-04-21T15:42:15.530441Z",
     "shell.execute_reply": "2022-04-21T15:42:15.530885Z",
     "shell.execute_reply.started": "2022-04-21T15:41:45.890269Z"
    },
    "papermill": {
     "duration": 0.030027,
     "end_time": "2022-04-21T15:42:15.531058",
     "exception": false,
     "start_time": "2022-04-21T15:42:15.501031",
     "status": "completed"
    },
    "tags": []
   },
   "outputs": [],
   "source": [
    "pickle.dump(lr, open('house-linear.pkl', 'wb')) "
   ]
  }
 ],
 "metadata": {
  "kernelspec": {
   "display_name": "Python 3",
   "language": "python",
   "name": "python3"
  },
  "language_info": {
   "codemirror_mode": {
    "name": "ipython",
    "version": 3
   },
   "file_extension": ".py",
   "mimetype": "text/x-python",
   "name": "python",
   "nbconvert_exporter": "python",
   "pygments_lexer": "ipython3",
   "version": "3.7.4"
  },
  "papermill": {
   "default_parameters": {},
   "duration": 14.393247,
   "end_time": "2022-04-21T15:42:16.264371",
   "environment_variables": {},
   "exception": null,
   "input_path": "__notebook__.ipynb",
   "output_path": "__notebook__.ipynb",
   "parameters": {},
   "start_time": "2022-04-21T15:42:01.871124",
   "version": "2.3.3"
  }
 },
 "nbformat": 4,
 "nbformat_minor": 5
}
